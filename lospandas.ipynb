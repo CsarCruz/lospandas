{
 "cells": [
  {
   "cell_type": "code",
   "execution_count": 2,
   "id": "060a56d1",
   "metadata": {},
   "outputs": [
    {
     "data": {
      "text/plain": [
       "'\\nIn this section the team imported the following libraries:\\nmatplotlib: for creating the charts, graphs, etc. \\nPandas: to make an analysis of the information in a tubular form.\\nScipy.stats: the team imported this for the different distributions and regression analysis.\\nNumpy: for working with arrays and matrices.\\nLinregress: To make linear regressions.\\nmath: For performing mathematical operations. \\ntime: Is a library for working with time. \\n'"
      ]
     },
     "execution_count": 2,
     "metadata": {},
     "output_type": "execute_result"
    }
   ],
   "source": [
    "\"\"\"\n",
    "In this section the team imported the following libraries:\n",
    "matplotlib: for creating the charts, graphs, etc. \n",
    "Pandas: to make an analysis of the information in a tubular form.\n",
    "Scipy.stats: the team imported this for the different distributions and regression analysis.\n",
    "Numpy: for working with arrays and matrices.\n",
    "Linregress: To make linear regressions.\n",
    "math: For performing mathematical operations. \n",
    "time: Is a library for working with time. \n",
    "\"\"\""
   ]
  },
  {
   "cell_type": "code",
   "execution_count": null,
   "id": "5d3dd2ff",
   "metadata": {},
   "outputs": [],
   "source": [
    "#Importin libraries\n",
    "import matplotlib.pyplot as plt\n",
    "import pandas as pd\n",
    "import scipy.stats as st\n",
    "import numpy as np\n",
    "from scipy.stats import linregress\n",
    "import math\n",
    "import time"
   ]
  },
  {
   "cell_type": "code",
   "execution_count": null,
   "id": "a4a6bddc",
   "metadata": {},
   "outputs": [],
   "source": [
    "\"\"\"\"\n",
    "First the team defined \"newdb.csv\", which is the CSV file, as dbpath. Then the code reads the CSV file. \n",
    "\n",
    "After that, we created a Pandas dataframe to create a new Dataframe that has the same data as db. \n",
    "\n",
    "Finally, the information was printed. \n",
    " \n",
    "\"\"\"\""
   ]
  },
  {
   "cell_type": "code",
   "execution_count": null,
   "id": "f45f3773",
   "metadata": {},
   "outputs": [],
   "source": [
    "#Reading new database.\n",
    "dbpath=\"newdb.csv\"\n",
    "db= pd.read_csv(dbpath)\n",
    "newdf=pd.DataFrame(db)\n",
    "newdf.head()"
   ]
  },
  {
   "cell_type": "code",
   "execution_count": null,
   "id": "5296efe3",
   "metadata": {},
   "outputs": [],
   "source": [
    "\"\"\"\"\n",
    "This code takes a CSV file newdb.csv and reads it into a Pandas DataFrame called newdf.\n",
    "\n",
    "Afterwards, It  a new DataFrame called new_categories was created by sorting newdf in descending order by the number of views.\n",
    "\n",
    "Then, new_categories was modified to include three new columns: \"revenue\" where the number of views was multiplied by 0.004, \n",
    "\n",
    "\"views_ln\" (the natural logarithm of the number of views), and \"likes_ln\" (the natural logarithm of the number of likes).\n",
    "\n",
    "\"\"\"\""
   ]
  },
  {
   "cell_type": "code",
   "execution_count": null,
   "id": "d6d9bfc3",
   "metadata": {},
   "outputs": [],
   "source": [
    "new_categories = newdf.sort_values(\"views\", ascending=False)\n",
    "new_categories.head()\n",
    "#calculatin the revenue per video \n",
    "new_categories['revenue'] = new_categories['views']*.004\n",
    "new_categories ['views_ln'] = np.log(new_categories['views'])\n",
    "new_categories ['likes_ln'] = np.log(new_categories['likes'])\n",
    "last_date = new_categories['publish_time'].max()\n",
    "\n",
    "new_categories.head()"
   ]
  },
  {
   "cell_type": "code",
   "execution_count": null,
   "id": "c1f5eafb",
   "metadata": {},
   "outputs": [],
   "source": [
    "\"\"\"\n",
    "To create this pie chart, which is an analysis of the views per France, Germany and Breat Britan, the libraries Matplotlib, Pandas, and NumPy were used. It reads the file \"data.csv\" into a Pandas DataFrame called data, and then creates a new DataFrame called \n",
    "grouped_data by grouping the infromation from \"category\" column and then it sums the data from \"views\" column for each group.\n",
    "\n",
    "\"\"\""
   ]
  },
  {
   "cell_type": "code",
   "execution_count": null,
   "id": "d5ba96ea",
   "metadata": {},
   "outputs": [],
   "source": [
    "views_per_country = new_categories.groupby([\"country\"]).sum()[\"views\"]\n",
    "views_per_country_df = pd.DataFrame(views_per_country)\n",
    "colors = ['gray', 'black', 'purple'] # define custom colors for the slices\n",
    "explode = [0.1, 0, 0] # explode the first slice\n",
    "views_per_country_df.plot(kind='pie', y='views', autopct='%1.0f%%', startangle=180, colors=colors, explode=explode, shadow=True, pctdistance=0.8, labeldistance=1.1)\n",
    "plt.title('Views per country', fontsize=16, fontweight='bold')\n",
    "plt.legend(labels=views_per_country_df.index, loc='upper right', bbox_to_anchor=(1.2, 1))\n",
    "plt.axis('equal')\n",
    "plt.show()"
   ]
  },
  {
   "cell_type": "code",
   "execution_count": null,
   "id": "39856ec3",
   "metadata": {},
   "outputs": [],
   "source": [
    "\"\"\"\n",
    "The team used the libraries of Matplotlib and Pandas for creating again a pie chart of the Total revenue per country. \n",
    "Firt, we grouped the data from \"new_categories\" by country and sum up the \"revenue\". After that, a new DataFrame called \"views_per_country\" was created to store the information. \n",
    "Finally, the team gave format to plot the chart as disired.\n",
    "\"\"\""
   ]
  },
  {
   "cell_type": "code",
   "execution_count": null,
   "id": "12df384c",
   "metadata": {},
   "outputs": [],
   "source": [
    "# Total revenue  per country\n",
    "views_per_country = new_categories.groupby([\"country\"]).sum()[\"revenue\"]\n",
    "views_per_country_df = pd.DataFrame(views_per_country)\n",
    "# views_per_country_df.plot(kind=\"bar\")\n",
    "# plt.xlabel('Revenue')\n",
    "# plt.ylabel('Views')\n",
    "# plt.title('Revenue per contry')\n",
    "# plt.show()\n",
    "\n",
    "views_per_country_df.plot(kind='pie', y='revenue', autopct='%1.0f%%',startangle=180)\n",
    "plt.title('Revenue per contry')\n",
    "plt.show()"
   ]
  },
  {
   "cell_type": "code",
   "execution_count": null,
   "id": "5a5f127e",
   "metadata": {},
   "outputs": [],
   "source": [
    "\"\"\"\n",
    "For building this scatter plot about the relationship between Likes and Views, the libraries SciPy, Matplotlib and Pandas were used.\n",
    "First, the team selected how the informations was going to be presented in the x and y axis. Then, we used the linregress function to calculate the linear regression and create the regression line using the slope and intercept.\n",
    "\n",
    "\"\"\""
   ]
  },
  {
   "cell_type": "code",
   "execution_count": null,
   "id": "a8dd9188",
   "metadata": {},
   "outputs": [],
   "source": [
    "new_categories.head()\n",
    "x_values = new_categories[\"likes\"]\n",
    "x_values \n",
    "y_values = new_categories[\"views\"]\n",
    "plt.scatter(x_values,y_values)\n",
    "plt.xlabel('likes')\n",
    "plt.ylabel('views')\n",
    "\n",
    "(slope, intercept, rvalue, pvalue, stderr) = linregress(x_values, y_values)\n",
    "regress_values = x_values * slope + intercept\n",
    "line_eq = \"y = \" + str(round(slope,2)) + \"x + \" + str(round(intercept,2))\n",
    "plt.scatter(x_values,y_values)\n",
    "plt.plot(x_values,regress_values,\"r-\")\n",
    "plt.annotate(line_eq,(5.8,0.8),fontsize=15,color=\"blue\")\n",
    "plt.xlabel('Likes')\n",
    "plt.ylabel('Views')\n",
    "plt.show()"
   ]
  },
  {
   "cell_type": "code",
   "execution_count": null,
   "id": "dc238e05",
   "metadata": {},
   "outputs": [],
   "source": [
    "\"\"\"\n",
    "In this scatter plot, the same process mentioned before was followed, but the difference is that the team included th R squared for the linear regression.\n",
    "A string variable called \"text\" is then created and contains the R-squared value, rounded to two decimal places. Last but not least, it uses the annotate \n",
    "function to add this text as an annotation to the scatter plot.\n",
    "\n",
    "\"\"\""
   ]
  },
  {
   "cell_type": "code",
   "execution_count": null,
   "id": "fca71ade",
   "metadata": {},
   "outputs": [],
   "source": [
    "x_values = new_categories[\"likes\"]\n",
    "y_values = new_categories[\"views\"]\n",
    "\n",
    "# Generate scatter plot with purple points\n",
    "plt.scatter(x_values,y_values, color='purple')\n",
    "plt.xlabel('Likes')\n",
    "plt.ylabel('Views')\n",
    "\n",
    "# Add regression line\n",
    "(slope, intercept, rvalue, pvalue, stderr) = linregress(x_values, y_values)\n",
    "regress_values = x_values * slope + intercept\n",
    "line_eq = \"y = \" + str(round(slope,2)) + \"x + \" + str(round(intercept,2))\n",
    "plt.plot(x_values,regress_values, c=\"gray\")\n",
    "\n",
    "# Add R-squared value to plot\n",
    "r_squared = rvalue ** 2\n",
    "text = \"R-squared = \" + str(round(r_squared,2))\n",
    "plt.annotate(text, (5.8,0.6), fontsize=12, color=\"black\")\n",
    "\n",
    "plt.show()"
   ]
  },
  {
   "cell_type": "code",
   "execution_count": null,
   "id": "4d4d1269",
   "metadata": {},
   "outputs": [],
   "source": [
    "\"\"\"\n",
    "For creating a bar chart to analyze the Revenue per category for Germany, the team filtered the dataframe to get data from the three countries and then calculated the total views per video category for each of these countries.\n",
    "The resulting dataframes are then sorted in descending order based on the total views. \n",
    "Finally, the total views per category for Germany were plotted to a bar chart with the x-axis representing the video categories and the y-axis representing the total views for each category. \n",
    "\n",
    "\"\"\""
   ]
  },
  {
   "cell_type": "code",
   "execution_count": null,
   "id": "1444e0f4",
   "metadata": {},
   "outputs": [],
   "source": [
    "GR_new_categories = new_categories[(new_categories[\"country\"] == \"GREAT BRITAIN\")]\n",
    "FR_new_categories = new_categories[(new_categories[\"country\"] == \"FRANCE\")]\n",
    "DE_new_categories = new_categories[(new_categories[\"country\"] == \"GERMANY\")]\n",
    "\n",
    "views_per_category_GR = pd.DataFrame(GR_new_categories.groupby([\"category_id\"]).sum()[\"views\"])\n",
    "views_per_category_GR = views_per_category_GR.sort_values(\"views\", ascending=False)\n",
    "# views_per_category_GR[\"views\"] = views_per_category_GR[\"views\"].map(\"{:,}\".format)\n",
    "\n",
    "views_per_category_FR = pd.DataFrame(FR_new_categories.groupby([\"category_id\"]).sum()[\"views\"])\n",
    "views_per_category_FR = views_per_category_FR.sort_values(\"views\", ascending=False)\n",
    "# views_per_category_FR[\"views\"] = views_per_category_FR[\"views\"].map(\"{:,}\".format)\n",
    "\n",
    "views_per_category_DE = pd.DataFrame(DE_new_categories.groupby([\"category_id\"]).sum()[\"views\"])\n",
    "views_per_category_DE = views_per_category_DE.sort_values(\"views\", ascending=False)\n",
    "# views_per_category_DE[\"views\"] = views_per_category_DE[\"views\"].map(\"{:,}\".format)\n",
    "\n",
    "\n",
    "views_per_category_DE.plot(kind=\"bar\", color =\"black\")\n",
    "plt.xlabel('Category')\n",
    "plt.ylabel('Views')\n",
    "plt.title('Revenue per category for Germany')\n",
    "plt.show()"
   ]
  },
  {
   "cell_type": "code",
   "execution_count": null,
   "id": "fe84898f",
   "metadata": {},
   "outputs": [],
   "source": [
    "\"\"\"\n",
    "The same process was used for obtaining the Revenue per category for Great Britain. \n",
    "\"\"\""
   ]
  },
  {
   "cell_type": "code",
   "execution_count": null,
   "id": "a49be3bb",
   "metadata": {},
   "outputs": [],
   "source": [
    "views_per_category_GR.plot(kind=\"bar\", color =\"purple\")\n",
    "plt.xlabel('Category')\n",
    "plt.ylabel('Views')\n",
    "plt.title('Revenue per category for Great Britain')\n",
    "plt.show()"
   ]
  },
  {
   "cell_type": "code",
   "execution_count": null,
   "id": "e3c047a1",
   "metadata": {},
   "outputs": [],
   "source": [
    "\"\"\"\n",
    "The same process was used for obtaining the Revenue per category for Great France. \n",
    "\"\"\""
   ]
  },
  {
   "cell_type": "code",
   "execution_count": null,
   "id": "3afc77ba",
   "metadata": {},
   "outputs": [],
   "source": [
    "views_per_category_FR.plot(kind=\"bar\", color =\"gray\")\n",
    "plt.xlabel('Category')\n",
    "plt.ylabel('Views')\n",
    "plt.title('Revenue per category for France')\n",
    "plt.show()\n"
   ]
  },
  {
   "cell_type": "code",
   "execution_count": null,
   "id": "491f65ad",
   "metadata": {},
   "outputs": [],
   "source": [
    "\"\"\"\n",
    "For this part, the team decided to make a correlation matrix between the Views, Likes, Dislikes and Comment_count. \n",
    "The color of each square corresponds to the strength and direction of the correlation between the two variables. \n",
    "The darker the color, the stronger the correlation. The plot also includes a color bar to the right of the heatmap, \n",
    "which shows the range of correlation values. Finally, the x- and y-axis labels are set to the column names, and the plot is displayed using the show() function.\n",
    "\n",
    "\"\"\""
   ]
  },
  {
   "cell_type": "code",
   "execution_count": null,
   "id": "c39f547b",
   "metadata": {},
   "outputs": [],
   "source": [
    "correlation = new_categories[['views', 'likes', 'dislikes','comment_count']].corr()\n",
    "\n",
    "# Visualize the correlation matrix as a heatmap\n",
    "plt.imshow(correlation, cmap='Purples', interpolation='none')\n",
    "plt.colorbar()\n",
    "plt.xticks(range(len(correlation)), correlation.columns, rotation=90)\n",
    "plt.yticks(range(len(correlation)), correlation.columns)\n",
    "plt.show()"
   ]
  },
  {
   "cell_type": "code",
   "execution_count": null,
   "id": "e823a37d",
   "metadata": {},
   "outputs": [],
   "source": [
    "\"\"\"\n",
    "The total views, likes, dislikes, and comments for each category are determined using this code, which groups YouTube videos by category ID. \n",
    "The percentage of likes, dislikes, and comments compared to all views for each category was added to a new DataFrame.\n",
    "\"\"\""
   ]
  },
  {
   "cell_type": "code",
   "execution_count": null,
   "id": "40c93071",
   "metadata": {},
   "outputs": [],
   "source": [
    "views_per_category_v2 = new_categories.groupby([\"category_id\"]).sum()\n",
    "views_per_category_v2_df = pd.DataFrame(views_per_category_v2)\n",
    "views_per_category_v2_df = views_per_category_v2_df[[\"views\",\"likes\",\"dislikes\",\"comment_count\"]]\n",
    "views_per_category_v2_df['like as % of views'] = (views_per_category_v2_df['likes']/views_per_category_v2_df['views'])*100\n",
    "views_per_category_v2_df['dislike as % of views'] = (views_per_category_v2_df['dislikes']/views_per_category_v2_df['views'])*100\n",
    "views_per_category_v2_df['commens as % of views'] = (views_per_category_v2_df['comment_count']/views_per_category_v2_df['views'])*100\n",
    "likes_per_category_v2_df = views_per_category_v2_df[[\"like as % of views\"]]\n",
    "likes_per_category_v2_df = likes_per_category_v2_df.sort_values(\"like as % of views\", ascending=False)\n",
    "\n",
    "\n",
    "likes_per_category_v2_df.plot(kind=\"bar\", color =\"black\")\n",
    "plt.xlabel('Category')\n",
    "plt.ylabel('Views')\n",
    "plt.title('Likes as percentage of views')\n",
    "plt.show()"
   ]
  },
  {
   "cell_type": "code",
   "execution_count": null,
   "id": "25d1dee7",
   "metadata": {},
   "outputs": [],
   "source": [
    "\"\"\"\n",
    "For representing the percentage of dislikes for each video category, the team created a new dataframe called \"dislikes_per_category_v2_df\" \n",
    "that only contains the column \"dislike as % of views\" from another dataframe called \"views_per_category_v2_df\". Then for creating the \n",
    "bar plot the team used \"dislikes_per_category_v2_df\" dataframe. Each bar represets the different video category and the height of the bar \n",
    "representing the percentage of dislikes for that category.\n",
    "\n",
    "\"\"\""
   ]
  },
  {
   "cell_type": "code",
   "execution_count": null,
   "id": "848e4fa0",
   "metadata": {},
   "outputs": [],
   "source": [
    "dislikes_per_category_v2_df = views_per_category_v2_df[[\"dislike as % of views\"]]\n",
    "dislikes_per_category_v2_df = dislikes_per_category_v2_df.sort_values(\"dislike as % of views\", ascending=False)\n",
    "dislikes_per_category_v2_df.plot(kind=\"bar\", color =\"black\")\n",
    "plt.xlabel('Category')\n",
    "plt.ylabel('Views')\n",
    "plt.title('Dislikes as percentage of views')\n",
    "plt.show()"
   ]
  },
  {
   "cell_type": "code",
   "execution_count": null,
   "id": "e89e342f",
   "metadata": {},
   "outputs": [],
   "source": [
    "\"\"\"\n",
    "The same process was used as the code before, but this time for the \"commens as % of views\". Then the bar chart was ploted. \n",
    "\"\"\""
   ]
  },
  {
   "cell_type": "code",
   "execution_count": null,
   "id": "7a77738c",
   "metadata": {},
   "outputs": [],
   "source": [
    "comments_per_category_v2_df = views_per_category_v2_df[[\"commens as % of views\"]]\n",
    "comments_per_category_v2_df = comments_per_category_v2_df.sort_values(\"commens as % of views\", ascending=False)\n",
    "comments_per_category_v2_df.plot(kind=\"bar\", color =\"black\")\n",
    "plt.xlabel('Category')\n",
    "plt.ylabel('Views')\n",
    "plt.title('Likes as percentage of views')\n",
    "plt.show()"
   ]
  },
  {
   "cell_type": "code",
   "execution_count": null,
   "id": "89ff15a1",
   "metadata": {},
   "outputs": [],
   "source": []
  }
 ],
 "metadata": {
  "kernelspec": {
   "display_name": "Python 3 (ipykernel)",
   "language": "python",
   "name": "python3"
  },
  "language_info": {
   "codemirror_mode": {
    "name": "ipython",
    "version": 3
   },
   "file_extension": ".py",
   "mimetype": "text/x-python",
   "name": "python",
   "nbconvert_exporter": "python",
   "pygments_lexer": "ipython3",
   "version": "3.9.13"
  }
 },
 "nbformat": 4,
 "nbformat_minor": 5
}
